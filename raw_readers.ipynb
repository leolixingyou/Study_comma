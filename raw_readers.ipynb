{
 "cells": [
  {
   "cell_type": "code",
   "execution_count": 1,
   "metadata": {},
   "outputs": [],
   "source": [
    "example_segment = '../Example_1/b0c9d2329ad1606b|2018-08-02--08-34-47/40/'"
   ]
  },
  {
   "cell_type": "code",
   "execution_count": 2,
   "metadata": {},
   "outputs": [
    {
     "name": "stdout",
     "output_type": "stream",
     "text": [
      "%pylab is deprecated, use %matplotlib inline and import the required libraries.\n",
      "Populating the interactive namespace from numpy and matplotlib\n"
     ]
    }
   ],
   "source": [
    "import os\n",
    "import numpy as np\n",
    "%pylab inline"
   ]
  },
  {
   "cell_type": "code",
   "execution_count": 3,
   "metadata": {},
   "outputs": [
    {
     "ename": "ImportError",
     "evalue": "cannot import name 'log' from 'cereal' (/home/cvlab-swlee/.local/lib/python3.8/site-packages/cereal/__init__.py)",
     "output_type": "error",
     "traceback": [
      "\u001b[0;31m---------------------------------------------------------------------------\u001b[0m",
      "\u001b[0;31mImportError\u001b[0m                               Traceback (most recent call last)",
      "Cell \u001b[0;32mIn [3], line 3\u001b[0m\n\u001b[1;32m      1\u001b[0m \u001b[38;5;28;01mfrom\u001b[39;00m \u001b[38;5;21;01m__future__\u001b[39;00m \u001b[38;5;28;01mimport\u001b[39;00m print_function\n\u001b[1;32m      2\u001b[0m \u001b[38;5;66;03m# we read raw logs via openpilot's tool logreader\u001b[39;00m\n\u001b[0;32m----> 3\u001b[0m \u001b[38;5;28;01mfrom\u001b[39;00m \u001b[38;5;21;01mtools\u001b[39;00m\u001b[38;5;21;01m.\u001b[39;00m\u001b[38;5;21;01mlib\u001b[39;00m\u001b[38;5;21;01m.\u001b[39;00m\u001b[38;5;21;01mlogreader\u001b[39;00m \u001b[38;5;28;01mimport\u001b[39;00m LogReader\n\u001b[1;32m      5\u001b[0m lr \u001b[38;5;241m=\u001b[39m LogReader(example_segment \u001b[38;5;241m+\u001b[39m \u001b[38;5;124m'\u001b[39m\u001b[38;5;124mraw_log.bz2\u001b[39m\u001b[38;5;124m'\u001b[39m)\n\u001b[1;32m      6\u001b[0m \u001b[38;5;66;03m# make list of logs\u001b[39;00m\n",
      "File \u001b[0;32m~/Desktop/log/postgraduates/vision_motion/comma2k19/notebooks/tools/lib/logreader.py:11\u001b[0m\n\u001b[1;32m      7\u001b[0m \u001b[38;5;28;01mimport\u001b[39;00m \u001b[38;5;21;01mwarnings\u001b[39;00m\n\u001b[1;32m      9\u001b[0m \u001b[38;5;28;01mfrom\u001b[39;00m \u001b[38;5;21;01mtyping\u001b[39;00m \u001b[38;5;28;01mimport\u001b[39;00m Iterable, Iterator\n\u001b[0;32m---> 11\u001b[0m \u001b[38;5;28;01mfrom\u001b[39;00m \u001b[38;5;21;01mcereal\u001b[39;00m \u001b[38;5;28;01mimport\u001b[39;00m log \u001b[38;5;28;01mas\u001b[39;00m capnp_log\n\u001b[1;32m     12\u001b[0m \u001b[38;5;28;01mfrom\u001b[39;00m \u001b[38;5;21;01mopenpilot\u001b[39;00m\u001b[38;5;21;01m.\u001b[39;00m\u001b[38;5;21;01mtools\u001b[39;00m\u001b[38;5;21;01m.\u001b[39;00m\u001b[38;5;21;01mlib\u001b[39;00m\u001b[38;5;21;01m.\u001b[39;00m\u001b[38;5;21;01mfilereader\u001b[39;00m \u001b[38;5;28;01mimport\u001b[39;00m FileReader\n\u001b[1;32m     13\u001b[0m \u001b[38;5;28;01mfrom\u001b[39;00m \u001b[38;5;21;01mopenpilot\u001b[39;00m\u001b[38;5;21;01m.\u001b[39;00m\u001b[38;5;21;01mtools\u001b[39;00m\u001b[38;5;21;01m.\u001b[39;00m\u001b[38;5;21;01mlib\u001b[39;00m\u001b[38;5;21;01m.\u001b[39;00m\u001b[38;5;21;01mroute\u001b[39;00m \u001b[38;5;28;01mimport\u001b[39;00m Route, SegmentName\n",
      "\u001b[0;31mImportError\u001b[0m: cannot import name 'log' from 'cereal' (/home/cvlab-swlee/.local/lib/python3.8/site-packages/cereal/__init__.py)"
     ]
    }
   ],
   "source": [
    "from __future__ import print_function\n",
    "# we read raw logs via openpilot's tool logreader\n",
    "from tools.lib.logreader import LogReader\n",
    "\n",
    "lr = LogReader(example_segment + 'raw_log.bz2')\n",
    "# make list of logs\n",
    "logs = list(lr)\n",
    "\n",
    "# we print the types of the first 50 logs\n",
    "print([l.which() for l in logs[:50]])\n",
    "\n",
    "# we can plot the speed of the car by getting\n",
    "# all the carState logs\n",
    "figsize(12,12);\n",
    "plot([l.carState.vEgo for l in logs if l.which() == 'carState'], linewidth=3);\n",
    "title('Car speed from raw logs (m/s)', fontsize=25);\n",
    "xlabel('boot time (s)', fontsize=18);\n",
    "ylabel('speed (m/s)', fontsize=18);"
   ]
  },
  {
   "cell_type": "code",
   "execution_count": null,
   "metadata": {},
   "outputs": [],
   "source": [
    "# We can extract frames from the video with framereader\n",
    "# from openpilot tools, we look at frame 600\n",
    "from tools.lib.framereader import FrameReader\n",
    "from lru import LRU\n",
    "\n",
    "frame_index = 600\n",
    "\n",
    "fr = FrameReader(example_segment + 'video.hevc')\n",
    "figsize(12,12)\n",
    "imshow(fr.get(frame_index, pix_fmt='rgb24')[1]);\n",
    "title('Frame 600 extracted from video with FrameReader', fontsize=25);"
   ]
  },
  {
   "cell_type": "code",
   "execution_count": null,
   "metadata": {},
   "outputs": [],
   "source": []
  },
  {
   "cell_type": "code",
   "execution_count": null,
   "metadata": {},
   "outputs": [],
   "source": []
  }
 ],
 "metadata": {
  "kernelspec": {
   "display_name": "Python 3 (ipykernel)",
   "language": "python",
   "name": "python3"
  },
  "language_info": {
   "codemirror_mode": {
    "name": "ipython",
    "version": 3
   },
   "file_extension": ".py",
   "mimetype": "text/x-python",
   "name": "python",
   "nbconvert_exporter": "python",
   "pygments_lexer": "ipython3",
   "version": "3.8.10"
  }
 },
 "nbformat": 4,
 "nbformat_minor": 2
}
